{
 "cells": [
  {
   "cell_type": "markdown",
   "metadata": {
    "collapsed": true,
    "pycharm": {
     "name": "#%% md\n"
    }
   },
   "source": [
    "# EEE 526 EXAM\n",
    "## EEG/2015/061"
   ],
   "outputs": [],
   "execution_count": 1
  },
  {
   "cell_type": "code",
   "execution_count": 117,
   "outputs": [],
   "source": [
    "#importing libraries needed\n",
    "import matplotlib.pyplot as plt\n",
    "import pandas as pd\n",
    "import numpy as np\n",
    "from sklearn.linear_model import LogisticRegression\n",
    "import statsmodels.api as sm\n",
    "import statsmodels.formula.api as stats\n",
    "import seaborn as sea"
   ],
   "metadata": {
    "collapsed": false,
    "pycharm": {
     "name": "#%%\n"
    }
   }
  },
  {
   "cell_type": "markdown",
   "source": [
    "## Question 1"
   ],
   "metadata": {
    "collapsed": false,
    "pycharm": {
     "name": "#%% md\n"
    }
   }
  },
  {
   "cell_type": "code",
   "execution_count": 57,
   "outputs": [
    {
     "name": "stderr",
     "output_type": "stream",
     "text": [
      "<ipython-input-57-5dafd645c4f3>:12: SettingWithCopyWarning: \n",
      "A value is trying to be set on a copy of a slice from a DataFrame\n",
      "\n",
      "See the caveats in the documentation: https://pandas.pydata.org/pandas-docs/stable/user_guide/indexing.html#returning-a-view-versus-a-copy\n",
      "  shuttle_data['oringprob'][i]='Yes'\n"
     ]
    },
    {
     "data": {
      "text/plain": "    Damaged  Temp oringprob\n0         2    53       Yes\n1         1    57       Yes\n2         1    58       Yes\n3         1    63       Yes\n4         0    66        No\n5         0    67        No\n6         0    67        No\n7         0    67        No\n8         0    68        No\n9         0    69        No\n10        0    70        No\n11        0    70        No\n12        1    70       Yes\n13        1    70       Yes\n14        0    72        No\n15        0    73        No\n16        0    75        No\n17        2    75       Yes\n18        0    76        No\n19        0    78        No\n20        0    79        No\n21        0    81        No\n22        0    76        No",
      "text/html": "<div>\n<style scoped>\n    .dataframe tbody tr th:only-of-type {\n        vertical-align: middle;\n    }\n\n    .dataframe tbody tr th {\n        vertical-align: top;\n    }\n\n    .dataframe thead th {\n        text-align: right;\n    }\n</style>\n<table border=\"1\" class=\"dataframe\">\n  <thead>\n    <tr style=\"text-align: right;\">\n      <th></th>\n      <th>Damaged</th>\n      <th>Temp</th>\n      <th>oringprob</th>\n    </tr>\n  </thead>\n  <tbody>\n    <tr>\n      <th>0</th>\n      <td>2</td>\n      <td>53</td>\n      <td>Yes</td>\n    </tr>\n    <tr>\n      <th>1</th>\n      <td>1</td>\n      <td>57</td>\n      <td>Yes</td>\n    </tr>\n    <tr>\n      <th>2</th>\n      <td>1</td>\n      <td>58</td>\n      <td>Yes</td>\n    </tr>\n    <tr>\n      <th>3</th>\n      <td>1</td>\n      <td>63</td>\n      <td>Yes</td>\n    </tr>\n    <tr>\n      <th>4</th>\n      <td>0</td>\n      <td>66</td>\n      <td>No</td>\n    </tr>\n    <tr>\n      <th>5</th>\n      <td>0</td>\n      <td>67</td>\n      <td>No</td>\n    </tr>\n    <tr>\n      <th>6</th>\n      <td>0</td>\n      <td>67</td>\n      <td>No</td>\n    </tr>\n    <tr>\n      <th>7</th>\n      <td>0</td>\n      <td>67</td>\n      <td>No</td>\n    </tr>\n    <tr>\n      <th>8</th>\n      <td>0</td>\n      <td>68</td>\n      <td>No</td>\n    </tr>\n    <tr>\n      <th>9</th>\n      <td>0</td>\n      <td>69</td>\n      <td>No</td>\n    </tr>\n    <tr>\n      <th>10</th>\n      <td>0</td>\n      <td>70</td>\n      <td>No</td>\n    </tr>\n    <tr>\n      <th>11</th>\n      <td>0</td>\n      <td>70</td>\n      <td>No</td>\n    </tr>\n    <tr>\n      <th>12</th>\n      <td>1</td>\n      <td>70</td>\n      <td>Yes</td>\n    </tr>\n    <tr>\n      <th>13</th>\n      <td>1</td>\n      <td>70</td>\n      <td>Yes</td>\n    </tr>\n    <tr>\n      <th>14</th>\n      <td>0</td>\n      <td>72</td>\n      <td>No</td>\n    </tr>\n    <tr>\n      <th>15</th>\n      <td>0</td>\n      <td>73</td>\n      <td>No</td>\n    </tr>\n    <tr>\n      <th>16</th>\n      <td>0</td>\n      <td>75</td>\n      <td>No</td>\n    </tr>\n    <tr>\n      <th>17</th>\n      <td>2</td>\n      <td>75</td>\n      <td>Yes</td>\n    </tr>\n    <tr>\n      <th>18</th>\n      <td>0</td>\n      <td>76</td>\n      <td>No</td>\n    </tr>\n    <tr>\n      <th>19</th>\n      <td>0</td>\n      <td>78</td>\n      <td>No</td>\n    </tr>\n    <tr>\n      <th>20</th>\n      <td>0</td>\n      <td>79</td>\n      <td>No</td>\n    </tr>\n    <tr>\n      <th>21</th>\n      <td>0</td>\n      <td>81</td>\n      <td>No</td>\n    </tr>\n    <tr>\n      <th>22</th>\n      <td>0</td>\n      <td>76</td>\n      <td>No</td>\n    </tr>\n  </tbody>\n</table>\n</div>"
     },
     "execution_count": 57,
     "metadata": {},
     "output_type": "execute_result"
    }
   ],
   "source": [
    "# importing the data from spaceshuttle.csv and dataprocessing\n",
    "shuttle_data= pd.read_csv('SpaceShuttle.csv')\n",
    "shuttle_data\n",
    "#data processing\n",
    "#oprobfail=pd.DataFrame(np.zeros(23))\n",
    "#oprobfail[]\n",
    "shuttle_data['oringprob']='No'\n",
    "damaged=shuttle_data.loc[:,'Damaged']\n",
    "damaged\n",
    "for i in range(23):\n",
    "    if  ((damaged[i])/6)*100 > 0:\n",
    "        shuttle_data['oringprob'][i]='Yes'\n",
    "\n",
    "\n",
    "#oprobfail=oprobfail.loc[0,:]\n",
    "#oprobfail.convert_dtypes(np.dtype('int32'))\n",
    "#shuttle_data_p=pd.concat([shuttle_data,oprobfail.set_axis(shuttle_data.index)],axis=1,names=\"fail\")\n",
    "#shuttle_data_p.rename(columns={'null':'opron'})\n",
    "#shuttle_data['oprobfail']=oprobfail\n",
    "#oprobfail_int=[33,17,17,17,0,0,0,0,0,0,0,0,17,17,0,0,0,33,0,0,0,0,0]\n",
    "#shuttle_data['oprobfailint']=oprobfail_int\n",
    "shuttle_data"
   ],
   "metadata": {
    "collapsed": false,
    "pycharm": {
     "name": "#%%\n"
    }
   }
  },
  {
   "cell_type": "code",
   "execution_count": 59,
   "outputs": [
    {
     "name": "stdout",
     "output_type": "stream",
     "text": [
      "['No' 'Yes']\n",
      "[[-0.22950051]]\n",
      "[14.86192709]\n"
     ]
    }
   ],
   "source": [
    "#fitting a logistic regression model\n",
    "log_model_shuttle= LogisticRegression()\n",
    "pred=['Temp']\n",
    "x=shuttle_data[pred]\n",
    "y=shuttle_data.oringprob\n",
    "log_model_shuttle.fit(x,y)\n",
    "#log_model_shuttle.coef_\n",
    "\n",
    "print(log_model_shuttle.classes_)\n",
    "print(log_model_shuttle.coef_)\n",
    "print(log_model_shuttle.intercept_)"
   ],
   "metadata": {
    "collapsed": false,
    "pycharm": {
     "name": "#%%\n"
    }
   }
  },
  {
   "cell_type": "code",
   "execution_count": 72,
   "outputs": [
    {
     "data": {
      "text/plain": "array(['Yes', 'Yes', 'Yes', 'Yes', 'Yes', 'Yes', 'Yes', 'Yes', 'Yes',\n       'Yes', 'Yes', 'Yes', 'Yes', 'Yes', 'Yes', 'Yes', 'Yes', 'Yes',\n       'Yes', 'Yes', 'Yes', 'Yes', 'Yes', 'Yes', 'Yes', 'Yes', 'Yes',\n       'Yes', 'Yes', 'Yes', 'Yes', 'Yes', 'Yes', 'Yes', 'Yes', 'Yes',\n       'Yes', 'Yes', 'Yes', 'Yes', 'Yes', 'Yes', 'Yes', 'Yes', 'Yes',\n       'Yes', 'Yes', 'Yes', 'Yes', 'Yes', 'Yes', 'Yes', 'Yes', 'Yes',\n       'Yes', 'Yes', 'Yes', 'Yes', 'Yes', 'Yes', 'Yes', 'Yes', 'Yes',\n       'Yes', 'Yes', 'No', 'No', 'No', 'No', 'No', 'No', 'No', 'No', 'No',\n       'No', 'No', 'No', 'No', 'No', 'No', 'No', 'No', 'No', 'No', 'No',\n       'No', 'No', 'No', 'No', 'No', 'No', 'No', 'No', 'No', 'No', 'No',\n       'No', 'No', 'No', 'No'], dtype=object)"
     },
     "execution_count": 72,
     "metadata": {},
     "output_type": "execute_result"
    }
   ],
   "source": [
    "#predicting the probaility of failure for each degree increase in temperature\n",
    "\n",
    "x_pred=pd.DataFrame(range(100))\n",
    "x_pred\n",
    "log_model_shuttle.predict(x_pred)\n",
    "# probaility of failure for each degree of temperature"
   ],
   "metadata": {
    "collapsed": false,
    "pycharm": {
     "name": "#%%\n"
    }
   }
  },
  {
   "cell_type": "code",
   "execution_count": 79,
   "outputs": [
    {
     "data": {
      "text/plain": "    Damaged  Temp oringprob\n0         2    53       Yes\n1         1    57       Yes\n2         1    58       Yes\n3         1    63       Yes\n4         0    66        No\n5         0    67        No\n6         0    67        No\n7         0    67        No\n8         0    68        No\n9         0    69        No\n10        0    70        No\n11        0    70        No\n12        1    70       Yes\n13        1    70       Yes\n14        0    72        No\n15        0    73        No\n17        2    75       Yes\n18        0    76        No\n19        0    78        No\n20        0    79        No\n21        0    81        No\n22        0    76        No",
      "text/html": "<div>\n<style scoped>\n    .dataframe tbody tr th:only-of-type {\n        vertical-align: middle;\n    }\n\n    .dataframe tbody tr th {\n        vertical-align: top;\n    }\n\n    .dataframe thead th {\n        text-align: right;\n    }\n</style>\n<table border=\"1\" class=\"dataframe\">\n  <thead>\n    <tr style=\"text-align: right;\">\n      <th></th>\n      <th>Damaged</th>\n      <th>Temp</th>\n      <th>oringprob</th>\n    </tr>\n  </thead>\n  <tbody>\n    <tr>\n      <th>0</th>\n      <td>2</td>\n      <td>53</td>\n      <td>Yes</td>\n    </tr>\n    <tr>\n      <th>1</th>\n      <td>1</td>\n      <td>57</td>\n      <td>Yes</td>\n    </tr>\n    <tr>\n      <th>2</th>\n      <td>1</td>\n      <td>58</td>\n      <td>Yes</td>\n    </tr>\n    <tr>\n      <th>3</th>\n      <td>1</td>\n      <td>63</td>\n      <td>Yes</td>\n    </tr>\n    <tr>\n      <th>4</th>\n      <td>0</td>\n      <td>66</td>\n      <td>No</td>\n    </tr>\n    <tr>\n      <th>5</th>\n      <td>0</td>\n      <td>67</td>\n      <td>No</td>\n    </tr>\n    <tr>\n      <th>6</th>\n      <td>0</td>\n      <td>67</td>\n      <td>No</td>\n    </tr>\n    <tr>\n      <th>7</th>\n      <td>0</td>\n      <td>67</td>\n      <td>No</td>\n    </tr>\n    <tr>\n      <th>8</th>\n      <td>0</td>\n      <td>68</td>\n      <td>No</td>\n    </tr>\n    <tr>\n      <th>9</th>\n      <td>0</td>\n      <td>69</td>\n      <td>No</td>\n    </tr>\n    <tr>\n      <th>10</th>\n      <td>0</td>\n      <td>70</td>\n      <td>No</td>\n    </tr>\n    <tr>\n      <th>11</th>\n      <td>0</td>\n      <td>70</td>\n      <td>No</td>\n    </tr>\n    <tr>\n      <th>12</th>\n      <td>1</td>\n      <td>70</td>\n      <td>Yes</td>\n    </tr>\n    <tr>\n      <th>13</th>\n      <td>1</td>\n      <td>70</td>\n      <td>Yes</td>\n    </tr>\n    <tr>\n      <th>14</th>\n      <td>0</td>\n      <td>72</td>\n      <td>No</td>\n    </tr>\n    <tr>\n      <th>15</th>\n      <td>0</td>\n      <td>73</td>\n      <td>No</td>\n    </tr>\n    <tr>\n      <th>17</th>\n      <td>2</td>\n      <td>75</td>\n      <td>Yes</td>\n    </tr>\n    <tr>\n      <th>18</th>\n      <td>0</td>\n      <td>76</td>\n      <td>No</td>\n    </tr>\n    <tr>\n      <th>19</th>\n      <td>0</td>\n      <td>78</td>\n      <td>No</td>\n    </tr>\n    <tr>\n      <th>20</th>\n      <td>0</td>\n      <td>79</td>\n      <td>No</td>\n    </tr>\n    <tr>\n      <th>21</th>\n      <td>0</td>\n      <td>81</td>\n      <td>No</td>\n    </tr>\n    <tr>\n      <th>22</th>\n      <td>0</td>\n      <td>76</td>\n      <td>No</td>\n    </tr>\n  </tbody>\n</table>\n</div>"
     },
     "execution_count": 79,
     "metadata": {},
     "output_type": "execute_result"
    }
   ],
   "source": [
    "#removing data for flight 18\n",
    "shuttle_data_edited1=shuttle_data.loc[0:15,:]\n",
    "shuttle_data_edited2=shuttle_data.loc[17:22,:]\n",
    "shuttle_data_edited1.append(shuttle_data_edited2)"
   ],
   "metadata": {
    "collapsed": false,
    "pycharm": {
     "name": "#%%\n"
    }
   }
  },
  {
   "cell_type": "code",
   "execution_count": 80,
   "outputs": [
    {
     "name": "stdout",
     "output_type": "stream",
     "text": [
      "['No' 'Yes']\n",
      "[[-0.32482337]]\n",
      "[21.0143003]\n"
     ]
    }
   ],
   "source": [
    "#training logistic model on reduced dataset\n",
    "log_model_shuttle_2= LogisticRegression()\n",
    "pred=['Temp']\n",
    "x=shuttle_data_edited1[pred]\n",
    "y=shuttle_data_edited1.oringprob\n",
    "log_model_shuttle_2.fit(x,y)\n",
    "#log_model_shuttle.coef_\n",
    "#coefficients are 0.15,-0.081 and -0.072\n",
    "print(log_model_shuttle_2.classes_)\n",
    "print(log_model_shuttle_2.coef_)\n",
    "print(log_model_shuttle_2.intercept_)"
   ],
   "metadata": {
    "collapsed": false,
    "pycharm": {
     "name": "#%%\n"
    }
   }
  },
  {
   "cell_type": "code",
   "execution_count": 86,
   "outputs": [
    {
     "data": {
      "text/plain": "array(['Yes', 'Yes', 'Yes', 'Yes', 'Yes', 'Yes', 'Yes', 'Yes', 'Yes',\n       'Yes', 'Yes', 'Yes', 'Yes', 'Yes', 'Yes', 'Yes', 'Yes', 'Yes',\n       'Yes', 'Yes', 'Yes', 'Yes', 'Yes', 'Yes', 'Yes', 'Yes', 'Yes',\n       'Yes', 'Yes', 'Yes', 'Yes', 'Yes', 'Yes', 'Yes', 'Yes', 'Yes',\n       'Yes', 'Yes', 'Yes', 'Yes', 'Yes', 'Yes', 'Yes', 'Yes', 'Yes',\n       'Yes', 'Yes', 'Yes', 'Yes', 'Yes', 'Yes', 'Yes', 'Yes', 'Yes',\n       'Yes', 'Yes', 'Yes', 'Yes', 'Yes', 'Yes', 'Yes', 'Yes', 'Yes',\n       'Yes', 'Yes', 'No', 'No', 'No', 'No', 'No', 'No', 'No', 'No', 'No',\n       'No', 'No', 'No', 'No', 'No', 'No', 'No', 'No', 'No', 'No', 'No',\n       'No', 'No', 'No', 'No', 'No', 'No', 'No', 'No', 'No', 'No', 'No',\n       'No', 'No', 'No', 'No'], dtype=object)"
     },
     "execution_count": 86,
     "metadata": {},
     "output_type": "execute_result"
    }
   ],
   "source": [
    "#predicting the probaility of failure for each degree increase in temperature\n",
    "\n",
    "x_pred=pd.DataFrame(range(100))\n",
    "x_pred\n",
    "log_model_shuttle_2.predict(x_pred)\n",
    "# probaility of failure for each degree of temperature\n"
   ],
   "metadata": {
    "collapsed": false,
    "pycharm": {
     "name": "#%%\n"
    }
   }
  },
  {
   "cell_type": "code",
   "source": [
    "# probability of failure when temp is 31 fahrenhiet\n",
    "log_model_shuttle_2.predict(pd.DataFrame([31]))"
   ],
   "metadata": {
    "collapsed": false,
    "pycharm": {
     "name": "#%%\n"
    }
   },
   "execution_count": 87,
   "outputs": [
    {
     "data": {
      "text/plain": "array(['Yes'], dtype=object)"
     },
     "execution_count": 87,
     "metadata": {},
     "output_type": "execute_result"
    }
   ]
  },
  {
   "cell_type": "markdown",
   "source": [
    "## Question 2\n"
   ],
   "metadata": {
    "collapsed": false,
    "pycharm": {
     "name": "#%% md\n"
    }
   }
  },
  {
   "cell_type": "code",
   "execution_count": 143,
   "outputs": [
    {
     "data": {
      "text/plain": "    EXAM1  EXAM2  EXAM3  FINAL\n0      73     80     75    152\n1      93     88     93    185\n2      89     91     90    180\n3      96     98    100    196\n4      73     66     70    142\n5      53     46     55    101\n6      69     74     77    149\n7      47     56     60    115\n8      87     79     90    175\n9      79     70     88    164\n10     69     70     73    141\n11     70     65     74    141\n12     93     95     91    184\n13     79     80     73    152\n14     70     73     78    148\n15     93     89     96    192\n16     78     75     68    147\n17     81     90     93    183\n18     88     92     86    177\n19     78     83     77    159\n20     82     86     90    177\n21     86     82     89    175\n22     78     83     85    175\n23     76     83     71    149\n24     96     93     95    192",
      "text/html": "<div>\n<style scoped>\n    .dataframe tbody tr th:only-of-type {\n        vertical-align: middle;\n    }\n\n    .dataframe tbody tr th {\n        vertical-align: top;\n    }\n\n    .dataframe thead th {\n        text-align: right;\n    }\n</style>\n<table border=\"1\" class=\"dataframe\">\n  <thead>\n    <tr style=\"text-align: right;\">\n      <th></th>\n      <th>EXAM1</th>\n      <th>EXAM2</th>\n      <th>EXAM3</th>\n      <th>FINAL</th>\n    </tr>\n  </thead>\n  <tbody>\n    <tr>\n      <th>0</th>\n      <td>73</td>\n      <td>80</td>\n      <td>75</td>\n      <td>152</td>\n    </tr>\n    <tr>\n      <th>1</th>\n      <td>93</td>\n      <td>88</td>\n      <td>93</td>\n      <td>185</td>\n    </tr>\n    <tr>\n      <th>2</th>\n      <td>89</td>\n      <td>91</td>\n      <td>90</td>\n      <td>180</td>\n    </tr>\n    <tr>\n      <th>3</th>\n      <td>96</td>\n      <td>98</td>\n      <td>100</td>\n      <td>196</td>\n    </tr>\n    <tr>\n      <th>4</th>\n      <td>73</td>\n      <td>66</td>\n      <td>70</td>\n      <td>142</td>\n    </tr>\n    <tr>\n      <th>5</th>\n      <td>53</td>\n      <td>46</td>\n      <td>55</td>\n      <td>101</td>\n    </tr>\n    <tr>\n      <th>6</th>\n      <td>69</td>\n      <td>74</td>\n      <td>77</td>\n      <td>149</td>\n    </tr>\n    <tr>\n      <th>7</th>\n      <td>47</td>\n      <td>56</td>\n      <td>60</td>\n      <td>115</td>\n    </tr>\n    <tr>\n      <th>8</th>\n      <td>87</td>\n      <td>79</td>\n      <td>90</td>\n      <td>175</td>\n    </tr>\n    <tr>\n      <th>9</th>\n      <td>79</td>\n      <td>70</td>\n      <td>88</td>\n      <td>164</td>\n    </tr>\n    <tr>\n      <th>10</th>\n      <td>69</td>\n      <td>70</td>\n      <td>73</td>\n      <td>141</td>\n    </tr>\n    <tr>\n      <th>11</th>\n      <td>70</td>\n      <td>65</td>\n      <td>74</td>\n      <td>141</td>\n    </tr>\n    <tr>\n      <th>12</th>\n      <td>93</td>\n      <td>95</td>\n      <td>91</td>\n      <td>184</td>\n    </tr>\n    <tr>\n      <th>13</th>\n      <td>79</td>\n      <td>80</td>\n      <td>73</td>\n      <td>152</td>\n    </tr>\n    <tr>\n      <th>14</th>\n      <td>70</td>\n      <td>73</td>\n      <td>78</td>\n      <td>148</td>\n    </tr>\n    <tr>\n      <th>15</th>\n      <td>93</td>\n      <td>89</td>\n      <td>96</td>\n      <td>192</td>\n    </tr>\n    <tr>\n      <th>16</th>\n      <td>78</td>\n      <td>75</td>\n      <td>68</td>\n      <td>147</td>\n    </tr>\n    <tr>\n      <th>17</th>\n      <td>81</td>\n      <td>90</td>\n      <td>93</td>\n      <td>183</td>\n    </tr>\n    <tr>\n      <th>18</th>\n      <td>88</td>\n      <td>92</td>\n      <td>86</td>\n      <td>177</td>\n    </tr>\n    <tr>\n      <th>19</th>\n      <td>78</td>\n      <td>83</td>\n      <td>77</td>\n      <td>159</td>\n    </tr>\n    <tr>\n      <th>20</th>\n      <td>82</td>\n      <td>86</td>\n      <td>90</td>\n      <td>177</td>\n    </tr>\n    <tr>\n      <th>21</th>\n      <td>86</td>\n      <td>82</td>\n      <td>89</td>\n      <td>175</td>\n    </tr>\n    <tr>\n      <th>22</th>\n      <td>78</td>\n      <td>83</td>\n      <td>85</td>\n      <td>175</td>\n    </tr>\n    <tr>\n      <th>23</th>\n      <td>76</td>\n      <td>83</td>\n      <td>71</td>\n      <td>149</td>\n    </tr>\n    <tr>\n      <th>24</th>\n      <td>96</td>\n      <td>93</td>\n      <td>95</td>\n      <td>192</td>\n    </tr>\n  </tbody>\n</table>\n</div>"
     },
     "execution_count": 143,
     "metadata": {},
     "output_type": "execute_result"
    }
   ],
   "source": [
    "#importing dataset\n",
    "exam_data=pd.read_csv('ExamScores.csv')\n",
    "exam_data"
   ],
   "metadata": {
    "collapsed": false,
    "pycharm": {
     "name": "#%%\n"
    }
   }
  },
  {
   "cell_type": "code",
   "execution_count": 90,
   "outputs": [
    {
     "data": {
      "text/plain": "           EXAM1      EXAM2       EXAM3       FINAL\ncount  25.000000  25.000000   25.000000   25.000000\nmean   79.040000  79.480000   81.480000  162.040000\nstd    12.279658  12.503733   11.765486   24.044195\nmin    47.000000  46.000000   55.000000  101.000000\n25%    73.000000  73.000000   73.000000  148.000000\n50%    79.000000  82.000000   85.000000  164.000000\n75%    88.000000  89.000000   90.000000  180.000000\nmax    96.000000  98.000000  100.000000  196.000000",
      "text/html": "<div>\n<style scoped>\n    .dataframe tbody tr th:only-of-type {\n        vertical-align: middle;\n    }\n\n    .dataframe tbody tr th {\n        vertical-align: top;\n    }\n\n    .dataframe thead th {\n        text-align: right;\n    }\n</style>\n<table border=\"1\" class=\"dataframe\">\n  <thead>\n    <tr style=\"text-align: right;\">\n      <th></th>\n      <th>EXAM1</th>\n      <th>EXAM2</th>\n      <th>EXAM3</th>\n      <th>FINAL</th>\n    </tr>\n  </thead>\n  <tbody>\n    <tr>\n      <th>count</th>\n      <td>25.000000</td>\n      <td>25.000000</td>\n      <td>25.000000</td>\n      <td>25.000000</td>\n    </tr>\n    <tr>\n      <th>mean</th>\n      <td>79.040000</td>\n      <td>79.480000</td>\n      <td>81.480000</td>\n      <td>162.040000</td>\n    </tr>\n    <tr>\n      <th>std</th>\n      <td>12.279658</td>\n      <td>12.503733</td>\n      <td>11.765486</td>\n      <td>24.044195</td>\n    </tr>\n    <tr>\n      <th>min</th>\n      <td>47.000000</td>\n      <td>46.000000</td>\n      <td>55.000000</td>\n      <td>101.000000</td>\n    </tr>\n    <tr>\n      <th>25%</th>\n      <td>73.000000</td>\n      <td>73.000000</td>\n      <td>73.000000</td>\n      <td>148.000000</td>\n    </tr>\n    <tr>\n      <th>50%</th>\n      <td>79.000000</td>\n      <td>82.000000</td>\n      <td>85.000000</td>\n      <td>164.000000</td>\n    </tr>\n    <tr>\n      <th>75%</th>\n      <td>88.000000</td>\n      <td>89.000000</td>\n      <td>90.000000</td>\n      <td>180.000000</td>\n    </tr>\n    <tr>\n      <th>max</th>\n      <td>96.000000</td>\n      <td>98.000000</td>\n      <td>100.000000</td>\n      <td>196.000000</td>\n    </tr>\n  </tbody>\n</table>\n</div>"
     },
     "execution_count": 90,
     "metadata": {},
     "output_type": "execute_result"
    }
   ],
   "source": [
    "exam_data.describe()"
   ],
   "metadata": {
    "collapsed": false,
    "pycharm": {
     "name": "#%%\n"
    }
   }
  },
  {
   "cell_type": "code",
   "execution_count": 91,
   "outputs": [
    {
     "name": "stderr",
     "output_type": "stream",
     "text": [
      "C:\\Users\\SIREN PC\\anaconda3\\lib\\site-packages\\seaborn\\_decorators.py:36: FutureWarning: Pass the following variable as a keyword arg: x. From version 0.12, the only valid positional argument will be `data`, and passing other arguments without an explicit keyword will result in an error or misinterpretation.\n",
      "  warnings.warn(\n"
     ]
    },
    {
     "data": {
      "text/plain": "<AxesSubplot:label='bc64a7c5-09fe-4791-a7d5-bfa593f7f69e', xlabel='EXAM1'>"
     },
     "execution_count": 91,
     "metadata": {},
     "output_type": "execute_result"
    },
    {
     "data": {
      "text/plain": "<Figure size 720x720 with 20 Axes>",
      "image/png": "[encoded data removed]"
     },
     "metadata": {
      "needs_background": "light"
     },
     "output_type": "display_data"
    }
   ],
   "source": [
    "#graphical summary using seaborn\n",
    "sea.pairplot(exam_data)\n"
   ],
   "metadata": {
    "collapsed": false,
    "pycharm": {
     "name": "#%%\n"
    }
   }
  },
  {
   "cell_type": "code",
   "execution_count": 111,
   "outputs": [
    {
     "data": {
      "text/plain": "[Text(0, 0.5, 'EXAM 3')]"
     },
     "execution_count": 111,
     "metadata": {},
     "output_type": "execute_result"
    },
    {
     "data": {
      "text/plain": "<Figure size 1080x720 with 4 Axes>",
      "image/png": "[encoded data removed]"
     },
     "metadata": {
      "needs_background": "light"
     },
     "output_type": "display_data"
    }
   ],
   "source": [
    "#histograms of data\n",
    "fig,axes= plt.subplots(2,2,figsize=(15,10))\n",
    "axes[0,0].hist(exam_data['EXAM1'],bins=15)\n",
    "axes[0,0].set(ylabel='EXAM 1')\n",
    "\n",
    "axes[0,1].hist(exam_data['EXAM2'],bins=15)\n",
    "axes[0,1].set(ylabel='EXAM 2')\n",
    "\n",
    "axes[1,0].hist(exam_data['EXAM3'],bins=15)\n",
    "axes[1,0].set(ylabel='EXAM 3')"
   ],
   "metadata": {
    "collapsed": false,
    "pycharm": {
     "name": "#%%\n"
    }
   }
  },
  {
   "cell_type": "code",
   "execution_count": 114,
   "outputs": [
    {
     "name": "stderr",
     "output_type": "stream",
     "text": [
      "C:\\Users\\SIREN PC\\anaconda3\\lib\\site-packages\\seaborn\\_decorators.py:36: FutureWarning: Pass the following variable as a keyword arg: x. From version 0.12, the only valid positional argument will be `data`, and passing other arguments without an explicit keyword will result in an error or misinterpretation.\n",
      "  warnings.warn(\n"
     ]
    },
    {
     "data": {
      "text/plain": "<AxesSubplot:xlabel='EXAM1'>"
     },
     "execution_count": 114,
     "metadata": {},
     "output_type": "execute_result"
    },
    {
     "data": {
      "text/plain": "<Figure size 432x288 with 1 Axes>",
      "image/png": "[encoded data removed]"
     },
     "metadata": {
      "needs_background": "light"
     },
     "output_type": "display_data"
    }
   ],
   "source": [
    "#boxplot of data\n",
    "sea.boxplot(exam_data.EXAM1)"
   ],
   "metadata": {
    "collapsed": false,
    "pycharm": {
     "name": "#%%\n"
    }
   }
  },
  {
   "cell_type": "code",
   "execution_count": 115,
   "outputs": [
    {
     "name": "stderr",
     "output_type": "stream",
     "text": [
      "C:\\Users\\SIREN PC\\anaconda3\\lib\\site-packages\\seaborn\\_decorators.py:36: FutureWarning: Pass the following variable as a keyword arg: x. From version 0.12, the only valid positional argument will be `data`, and passing other arguments without an explicit keyword will result in an error or misinterpretation.\n",
      "  warnings.warn(\n"
     ]
    },
    {
     "data": {
      "text/plain": "<AxesSubplot:xlabel='EXAM2'>"
     },
     "execution_count": 115,
     "metadata": {},
     "output_type": "execute_result"
    },
    {
     "data": {
      "text/plain": "<Figure size 432x288 with 1 Axes>",
      "image/png": "[encoded data removed]"
     },
     "metadata": {
      "needs_background": "light"
     },
     "output_type": "display_data"
    }
   ],
   "source": [
    "#boxplot of data\n",
    "sea.boxplot(exam_data.EXAM2)"
   ],
   "metadata": {
    "collapsed": false,
    "pycharm": {
     "name": "#%%\n"
    }
   }
  },
  {
   "cell_type": "code",
   "execution_count": 116,
   "outputs": [
    {
     "name": "stderr",
     "output_type": "stream",
     "text": [
      "C:\\Users\\SIREN PC\\anaconda3\\lib\\site-packages\\seaborn\\_decorators.py:36: FutureWarning: Pass the following variable as a keyword arg: x. From version 0.12, the only valid positional argument will be `data`, and passing other arguments without an explicit keyword will result in an error or misinterpretation.\n",
      "  warnings.warn(\n"
     ]
    },
    {
     "data": {
      "text/plain": "<AxesSubplot:xlabel='EXAM3'>"
     },
     "execution_count": 116,
     "metadata": {},
     "output_type": "execute_result"
    },
    {
     "data": {
      "text/plain": "<Figure size 432x288 with 1 Axes>",
      "image/png": "[encoded data removed]"
     },
     "metadata": {
      "needs_background": "light"
     },
     "output_type": "display_data"
    }
   ],
   "source": [
    "#boxplot of data\n",
    "sea.boxplot(exam_data.EXAM3)"
   ],
   "metadata": {
    "collapsed": false,
    "pycharm": {
     "name": "#%%\n"
    }
   }
  },
  {
   "cell_type": "code",
   "execution_count": 135,
   "outputs": [
    {
     "data": {
      "text/plain": "<class 'statsmodels.iolib.summary.Summary'>\n\"\"\"\n                            OLS Regression Results                            \n==============================================================================\nDep. Variable:                  FINAL   R-squared:                       0.990\nModel:                            OLS   Adj. R-squared:                  0.988\nMethod:                 Least Squares   F-statistic:                     670.1\nDate:                Tue, 16 Nov 2021   Prob (F-statistic):           5.34e-21\nTime:                        14:11:00   Log-Likelihood:                -57.312\nNo. Observations:                  25   AIC:                             122.6\nDf Residuals:                      21   BIC:                             127.5\nDf Model:                           3                                         \nCovariance Type:            nonrobust                                         \n==============================================================================\n                 coef    std err          t      P>|t|      [0.025      0.975]\n------------------------------------------------------------------------------\nIntercept     -4.3361      3.764     -1.152      0.262     -12.164       3.492\nEXAM1          0.3559      0.121      2.932      0.008       0.103       0.608\nEXAM2          0.5425      0.101      5.379      0.000       0.333       0.752\nEXAM3          1.1674      0.103     11.333      0.000       0.953       1.382\n==============================================================================\nOmnibus:                        8.219   Durbin-Watson:                   2.084\nProb(Omnibus):                  0.016   Jarque-Bera (JB):                6.157\nSkew:                           0.993   Prob(JB):                       0.0460\nKurtosis:                       4.401   Cond. No.                     1.01e+03\n==============================================================================\n\nNotes:\n[1] Standard Errors assume that the covariance matrix of the errors is correctly specified.\n[2] The condition number is large, 1.01e+03. This might indicate that there are\nstrong multicollinearity or other numerical problems.\n\"\"\"",
      "text/html": "<table class=\"simpletable\">\n<caption>OLS Regression Results</caption>\n<tr>\n  <th>Dep. Variable:</th>          <td>FINAL</td>      <th>  R-squared:         </th> <td>   0.990</td>\n</tr>\n<tr>\n  <th>Model:</th>                   <td>OLS</td>       <th>  Adj. R-squared:    </th> <td>   0.988</td>\n</tr>\n<tr>\n  <th>Method:</th>             <td>Least Squares</td>  <th>  F-statistic:       </th> <td>   670.1</td>\n</tr>\n<tr>\n  <th>Date:</th>             <td>Tue, 16 Nov 2021</td> <th>  Prob (F-statistic):</th> <td>5.34e-21</td>\n</tr>\n<tr>\n  <th>Time:</th>                 <td>14:11:00</td>     <th>  Log-Likelihood:    </th> <td> -57.312</td>\n</tr>\n<tr>\n  <th>No. Observations:</th>      <td>    25</td>      <th>  AIC:               </th> <td>   122.6</td>\n</tr>\n<tr>\n  <th>Df Residuals:</th>          <td>    21</td>      <th>  BIC:               </th> <td>   127.5</td>\n</tr>\n<tr>\n  <th>Df Model:</th>              <td>     3</td>      <th>                     </th>     <td> </td>   \n</tr>\n<tr>\n  <th>Covariance Type:</th>      <td>nonrobust</td>    <th>                     </th>     <td> </td>   \n</tr>\n</table>\n<table class=\"simpletable\">\n<tr>\n      <td></td>         <th>coef</th>     <th>std err</th>      <th>t</th>      <th>P>|t|</th>  <th>[0.025</th>    <th>0.975]</th>  \n</tr>\n<tr>\n  <th>Intercept</th> <td>   -4.3361</td> <td>    3.764</td> <td>   -1.152</td> <td> 0.262</td> <td>  -12.164</td> <td>    3.492</td>\n</tr>\n<tr>\n  <th>EXAM1</th>     <td>    0.3559</td> <td>    0.121</td> <td>    2.932</td> <td> 0.008</td> <td>    0.103</td> <td>    0.608</td>\n</tr>\n<tr>\n  <th>EXAM2</th>     <td>    0.5425</td> <td>    0.101</td> <td>    5.379</td> <td> 0.000</td> <td>    0.333</td> <td>    0.752</td>\n</tr>\n<tr>\n  <th>EXAM3</th>     <td>    1.1674</td> <td>    0.103</td> <td>   11.333</td> <td> 0.000</td> <td>    0.953</td> <td>    1.382</td>\n</tr>\n</table>\n<table class=\"simpletable\">\n<tr>\n  <th>Omnibus:</th>       <td> 8.219</td> <th>  Durbin-Watson:     </th> <td>   2.084</td>\n</tr>\n<tr>\n  <th>Prob(Omnibus):</th> <td> 0.016</td> <th>  Jarque-Bera (JB):  </th> <td>   6.157</td>\n</tr>\n<tr>\n  <th>Skew:</th>          <td> 0.993</td> <th>  Prob(JB):          </th> <td>  0.0460</td>\n</tr>\n<tr>\n  <th>Kurtosis:</th>      <td> 4.401</td> <th>  Cond. No.          </th> <td>1.01e+03</td>\n</tr>\n</table><br/><br/>Notes:<br/>[1] Standard Errors assume that the covariance matrix of the errors is correctly specified.<br/>[2] The condition number is large, 1.01e+03. This might indicate that there are<br/>strong multicollinearity or other numerical problems."
     },
     "execution_count": 135,
     "metadata": {},
     "output_type": "execute_result"
    }
   ],
   "source": [
    "#mlr with final exam as dependent variable\n",
    "final_formula='FINAL~EXAM1+EXAM2+EXAM3'\n",
    "final_model=stats.ols(final_formula,exam_data).fit()\n",
    "final_model.summary()"
   ],
   "metadata": {
    "collapsed": false,
    "pycharm": {
     "name": "#%%\n"
    }
   }
  },
  {
   "cell_type": "code",
   "execution_count": 129,
   "outputs": [
    {
     "data": {
      "text/plain": "<class 'statsmodels.iolib.summary.Summary'>\n\"\"\"\n                            OLS Regression Results                            \n==============================================================================\nDep. Variable:                  EXAM1   R-squared:                       0.909\nModel:                            OLS   Adj. R-squared:                  0.896\nMethod:                 Least Squares   F-statistic:                     70.02\nDate:                Tue, 16 Nov 2021   Prob (F-statistic):           4.20e-11\nTime:                        14:07:29   Log-Likelihood:                -67.685\nNo. Observations:                  25   AIC:                             143.4\nDf Residuals:                      21   BIC:                             148.2\nDf Model:                           3                                         \nCovariance Type:            nonrobust                                         \n==============================================================================\n                 coef    std err          t      P>|t|      [0.025      0.975]\n------------------------------------------------------------------------------\nIntercept      3.5357      5.826      0.607      0.550      -8.581      15.652\nFINAL          0.8161      0.278      2.932      0.008       0.237       1.395\nEXAM2         -0.0847      0.235     -0.361      0.722      -0.573       0.404\nEXAM3         -0.6138      0.394     -1.558      0.134      -1.433       0.206\n==============================================================================\nOmnibus:                       10.169   Durbin-Watson:                   2.087\nProb(Omnibus):                  0.006   Jarque-Bera (JB):                8.487\nSkew:                          -1.353   Prob(JB):                       0.0144\nKurtosis:                       3.906   Cond. No.                     1.47e+03\n==============================================================================\n\nNotes:\n[1] Standard Errors assume that the covariance matrix of the errors is correctly specified.\n[2] The condition number is large, 1.47e+03. This might indicate that there are\nstrong multicollinearity or other numerical problems.\n\"\"\"",
      "text/html": "<table class=\"simpletable\">\n<caption>OLS Regression Results</caption>\n<tr>\n  <th>Dep. Variable:</th>          <td>EXAM1</td>      <th>  R-squared:         </th> <td>   0.909</td>\n</tr>\n<tr>\n  <th>Model:</th>                   <td>OLS</td>       <th>  Adj. R-squared:    </th> <td>   0.896</td>\n</tr>\n<tr>\n  <th>Method:</th>             <td>Least Squares</td>  <th>  F-statistic:       </th> <td>   70.02</td>\n</tr>\n<tr>\n  <th>Date:</th>             <td>Tue, 16 Nov 2021</td> <th>  Prob (F-statistic):</th> <td>4.20e-11</td>\n</tr>\n<tr>\n  <th>Time:</th>                 <td>14:07:29</td>     <th>  Log-Likelihood:    </th> <td> -67.685</td>\n</tr>\n<tr>\n  <th>No. Observations:</th>      <td>    25</td>      <th>  AIC:               </th> <td>   143.4</td>\n</tr>\n<tr>\n  <th>Df Residuals:</th>          <td>    21</td>      <th>  BIC:               </th> <td>   148.2</td>\n</tr>\n<tr>\n  <th>Df Model:</th>              <td>     3</td>      <th>                     </th>     <td> </td>   \n</tr>\n<tr>\n  <th>Covariance Type:</th>      <td>nonrobust</td>    <th>                     </th>     <td> </td>   \n</tr>\n</table>\n<table class=\"simpletable\">\n<tr>\n      <td></td>         <th>coef</th>     <th>std err</th>      <th>t</th>      <th>P>|t|</th>  <th>[0.025</th>    <th>0.975]</th>  \n</tr>\n<tr>\n  <th>Intercept</th> <td>    3.5357</td> <td>    5.826</td> <td>    0.607</td> <td> 0.550</td> <td>   -8.581</td> <td>   15.652</td>\n</tr>\n<tr>\n  <th>FINAL</th>     <td>    0.8161</td> <td>    0.278</td> <td>    2.932</td> <td> 0.008</td> <td>    0.237</td> <td>    1.395</td>\n</tr>\n<tr>\n  <th>EXAM2</th>     <td>   -0.0847</td> <td>    0.235</td> <td>   -0.361</td> <td> 0.722</td> <td>   -0.573</td> <td>    0.404</td>\n</tr>\n<tr>\n  <th>EXAM3</th>     <td>   -0.6138</td> <td>    0.394</td> <td>   -1.558</td> <td> 0.134</td> <td>   -1.433</td> <td>    0.206</td>\n</tr>\n</table>\n<table class=\"simpletable\">\n<tr>\n  <th>Omnibus:</th>       <td>10.169</td> <th>  Durbin-Watson:     </th> <td>   2.087</td>\n</tr>\n<tr>\n  <th>Prob(Omnibus):</th> <td> 0.006</td> <th>  Jarque-Bera (JB):  </th> <td>   8.487</td>\n</tr>\n<tr>\n  <th>Skew:</th>          <td>-1.353</td> <th>  Prob(JB):          </th> <td>  0.0144</td>\n</tr>\n<tr>\n  <th>Kurtosis:</th>      <td> 3.906</td> <th>  Cond. No.          </th> <td>1.47e+03</td>\n</tr>\n</table><br/><br/>Notes:<br/>[1] Standard Errors assume that the covariance matrix of the errors is correctly specified.<br/>[2] The condition number is large, 1.47e+03. This might indicate that there are<br/>strong multicollinearity or other numerical problems."
     },
     "execution_count": 129,
     "metadata": {},
     "output_type": "execute_result"
    }
   ],
   "source": [
    "#mlr with exam 1 as dependent variable\n",
    "exam1_formula='EXAM1~FINAL+EXAM2+EXAM3'\n",
    "exam1_model=stats.ols(exam1_formula,exam_data).fit()\n",
    "exam1_model.summary()"
   ],
   "metadata": {
    "collapsed": false,
    "pycharm": {
     "name": "#%%\n"
    }
   }
  },
  {
   "cell_type": "code",
   "execution_count": 130,
   "outputs": [
    {
     "data": {
      "text/plain": "<class 'statsmodels.iolib.summary.Summary'>\n\"\"\"\n                            OLS Regression Results                            \n==============================================================================\nDep. Variable:                  EXAM2   R-squared:                       0.925\nModel:                            OLS   Adj. R-squared:                  0.914\nMethod:                 Least Squares   F-statistic:                     86.00\nDate:                Tue, 16 Nov 2021   Prob (F-statistic):           5.85e-12\nTime:                        14:07:38   Log-Likelihood:                -65.780\nNo. Observations:                  25   AIC:                             139.6\nDf Residuals:                      21   BIC:                             144.4\nDf Model:                           3                                         \nCovariance Type:            nonrobust                                         \n==============================================================================\n                 coef    std err          t      P>|t|      [0.025      0.975]\n------------------------------------------------------------------------------\nIntercept      6.2757      5.271      1.191      0.247      -4.686      17.238\nFINAL          1.0681      0.199      5.379      0.000       0.655       1.481\nEXAM1         -0.0727      0.202     -0.361      0.722      -0.492       0.347\nEXAM3         -1.1553      0.292     -3.960      0.001      -1.762      -0.549\n==============================================================================\nOmnibus:                        3.170   Durbin-Watson:                   2.223\nProb(Omnibus):                  0.205   Jarque-Bera (JB):                1.588\nSkew:                          -0.287   Prob(JB):                        0.452\nKurtosis:                       1.907   Cond. No.                     1.44e+03\n==============================================================================\n\nNotes:\n[1] Standard Errors assume that the covariance matrix of the errors is correctly specified.\n[2] The condition number is large, 1.44e+03. This might indicate that there are\nstrong multicollinearity or other numerical problems.\n\"\"\"",
      "text/html": "<table class=\"simpletable\">\n<caption>OLS Regression Results</caption>\n<tr>\n  <th>Dep. Variable:</th>          <td>EXAM2</td>      <th>  R-squared:         </th> <td>   0.925</td>\n</tr>\n<tr>\n  <th>Model:</th>                   <td>OLS</td>       <th>  Adj. R-squared:    </th> <td>   0.914</td>\n</tr>\n<tr>\n  <th>Method:</th>             <td>Least Squares</td>  <th>  F-statistic:       </th> <td>   86.00</td>\n</tr>\n<tr>\n  <th>Date:</th>             <td>Tue, 16 Nov 2021</td> <th>  Prob (F-statistic):</th> <td>5.85e-12</td>\n</tr>\n<tr>\n  <th>Time:</th>                 <td>14:07:38</td>     <th>  Log-Likelihood:    </th> <td> -65.780</td>\n</tr>\n<tr>\n  <th>No. Observations:</th>      <td>    25</td>      <th>  AIC:               </th> <td>   139.6</td>\n</tr>\n<tr>\n  <th>Df Residuals:</th>          <td>    21</td>      <th>  BIC:               </th> <td>   144.4</td>\n</tr>\n<tr>\n  <th>Df Model:</th>              <td>     3</td>      <th>                     </th>     <td> </td>   \n</tr>\n<tr>\n  <th>Covariance Type:</th>      <td>nonrobust</td>    <th>                     </th>     <td> </td>   \n</tr>\n</table>\n<table class=\"simpletable\">\n<tr>\n      <td></td>         <th>coef</th>     <th>std err</th>      <th>t</th>      <th>P>|t|</th>  <th>[0.025</th>    <th>0.975]</th>  \n</tr>\n<tr>\n  <th>Intercept</th> <td>    6.2757</td> <td>    5.271</td> <td>    1.191</td> <td> 0.247</td> <td>   -4.686</td> <td>   17.238</td>\n</tr>\n<tr>\n  <th>FINAL</th>     <td>    1.0681</td> <td>    0.199</td> <td>    5.379</td> <td> 0.000</td> <td>    0.655</td> <td>    1.481</td>\n</tr>\n<tr>\n  <th>EXAM1</th>     <td>   -0.0727</td> <td>    0.202</td> <td>   -0.361</td> <td> 0.722</td> <td>   -0.492</td> <td>    0.347</td>\n</tr>\n<tr>\n  <th>EXAM3</th>     <td>   -1.1553</td> <td>    0.292</td> <td>   -3.960</td> <td> 0.001</td> <td>   -1.762</td> <td>   -0.549</td>\n</tr>\n</table>\n<table class=\"simpletable\">\n<tr>\n  <th>Omnibus:</th>       <td> 3.170</td> <th>  Durbin-Watson:     </th> <td>   2.223</td>\n</tr>\n<tr>\n  <th>Prob(Omnibus):</th> <td> 0.205</td> <th>  Jarque-Bera (JB):  </th> <td>   1.588</td>\n</tr>\n<tr>\n  <th>Skew:</th>          <td>-0.287</td> <th>  Prob(JB):          </th> <td>   0.452</td>\n</tr>\n<tr>\n  <th>Kurtosis:</th>      <td> 1.907</td> <th>  Cond. No.          </th> <td>1.44e+03</td>\n</tr>\n</table><br/><br/>Notes:<br/>[1] Standard Errors assume that the covariance matrix of the errors is correctly specified.<br/>[2] The condition number is large, 1.44e+03. This might indicate that there are<br/>strong multicollinearity or other numerical problems."
     },
     "execution_count": 130,
     "metadata": {},
     "output_type": "execute_result"
    }
   ],
   "source": [
    "#mlr with exam 2 as dependent variable\n",
    "exam2_formula='EXAM2~FINAL+EXAM1+EXAM3'\n",
    "exam2_model=stats.ols(exam2_formula,exam_data).fit()\n",
    "exam2_model.summary()"
   ],
   "metadata": {
    "collapsed": false,
    "pycharm": {
     "name": "#%%\n"
    }
   }
  },
  {
   "cell_type": "code",
   "execution_count": 133,
   "outputs": [
    {
     "data": {
      "text/plain": "<class 'statsmodels.iolib.summary.Summary'>\n\"\"\"\n                            OLS Regression Results                            \n==============================================================================\nDep. Variable:                  EXAM3   R-squared:                       0.973\nModel:                            OLS   Adj. R-squared:                  0.969\nMethod:                 Least Squares   F-statistic:                     250.1\nDate:                Tue, 16 Nov 2021   Prob (F-statistic):           1.38e-16\nTime:                        14:09:21   Log-Likelihood:                -51.549\nNo. Observations:                  25   AIC:                             111.1\nDf Residuals:                      21   BIC:                             116.0\nDf Model:                           3                                         \nCovariance Type:            nonrobust                                         \n==============================================================================\n                 coef    std err          t      P>|t|      [0.025      0.975]\n------------------------------------------------------------------------------\nIntercept      4.9379      2.888      1.710      0.102      -1.067      10.943\nFINAL          0.7362      0.065     11.333      0.000       0.601       0.871\nEXAM2         -0.3700      0.093     -3.960      0.001      -0.564      -0.176\nEXAM1         -0.1688      0.108     -1.558      0.134      -0.394       0.057\n==============================================================================\nOmnibus:                        4.900   Durbin-Watson:                   2.102\nProb(Omnibus):                  0.086   Jarque-Bera (JB):                3.120\nSkew:                          -0.808   Prob(JB):                        0.210\nKurtosis:                       3.617   Cond. No.                     1.39e+03\n==============================================================================\n\nNotes:\n[1] Standard Errors assume that the covariance matrix of the errors is correctly specified.\n[2] The condition number is large, 1.39e+03. This might indicate that there are\nstrong multicollinearity or other numerical problems.\n\"\"\"",
      "text/html": "<table class=\"simpletable\">\n<caption>OLS Regression Results</caption>\n<tr>\n  <th>Dep. Variable:</th>          <td>EXAM3</td>      <th>  R-squared:         </th> <td>   0.973</td>\n</tr>\n<tr>\n  <th>Model:</th>                   <td>OLS</td>       <th>  Adj. R-squared:    </th> <td>   0.969</td>\n</tr>\n<tr>\n  <th>Method:</th>             <td>Least Squares</td>  <th>  F-statistic:       </th> <td>   250.1</td>\n</tr>\n<tr>\n  <th>Date:</th>             <td>Tue, 16 Nov 2021</td> <th>  Prob (F-statistic):</th> <td>1.38e-16</td>\n</tr>\n<tr>\n  <th>Time:</th>                 <td>14:09:21</td>     <th>  Log-Likelihood:    </th> <td> -51.549</td>\n</tr>\n<tr>\n  <th>No. Observations:</th>      <td>    25</td>      <th>  AIC:               </th> <td>   111.1</td>\n</tr>\n<tr>\n  <th>Df Residuals:</th>          <td>    21</td>      <th>  BIC:               </th> <td>   116.0</td>\n</tr>\n<tr>\n  <th>Df Model:</th>              <td>     3</td>      <th>                     </th>     <td> </td>   \n</tr>\n<tr>\n  <th>Covariance Type:</th>      <td>nonrobust</td>    <th>                     </th>     <td> </td>   \n</tr>\n</table>\n<table class=\"simpletable\">\n<tr>\n      <td></td>         <th>coef</th>     <th>std err</th>      <th>t</th>      <th>P>|t|</th>  <th>[0.025</th>    <th>0.975]</th>  \n</tr>\n<tr>\n  <th>Intercept</th> <td>    4.9379</td> <td>    2.888</td> <td>    1.710</td> <td> 0.102</td> <td>   -1.067</td> <td>   10.943</td>\n</tr>\n<tr>\n  <th>FINAL</th>     <td>    0.7362</td> <td>    0.065</td> <td>   11.333</td> <td> 0.000</td> <td>    0.601</td> <td>    0.871</td>\n</tr>\n<tr>\n  <th>EXAM2</th>     <td>   -0.3700</td> <td>    0.093</td> <td>   -3.960</td> <td> 0.001</td> <td>   -0.564</td> <td>   -0.176</td>\n</tr>\n<tr>\n  <th>EXAM1</th>     <td>   -0.1688</td> <td>    0.108</td> <td>   -1.558</td> <td> 0.134</td> <td>   -0.394</td> <td>    0.057</td>\n</tr>\n</table>\n<table class=\"simpletable\">\n<tr>\n  <th>Omnibus:</th>       <td> 4.900</td> <th>  Durbin-Watson:     </th> <td>   2.102</td>\n</tr>\n<tr>\n  <th>Prob(Omnibus):</th> <td> 0.086</td> <th>  Jarque-Bera (JB):  </th> <td>   3.120</td>\n</tr>\n<tr>\n  <th>Skew:</th>          <td>-0.808</td> <th>  Prob(JB):          </th> <td>   0.210</td>\n</tr>\n<tr>\n  <th>Kurtosis:</th>      <td> 3.617</td> <th>  Cond. No.          </th> <td>1.39e+03</td>\n</tr>\n</table><br/><br/>Notes:<br/>[1] Standard Errors assume that the covariance matrix of the errors is correctly specified.<br/>[2] The condition number is large, 1.39e+03. This might indicate that there are<br/>strong multicollinearity or other numerical problems."
     },
     "execution_count": 133,
     "metadata": {},
     "output_type": "execute_result"
    }
   ],
   "source": [
    "#mlr with exam 3 as dependent variable\n",
    "exam3_formula='EXAM3~FINAL+EXAM2+EXAM1'\n",
    "exam3_model=stats.ols(exam3_formula,exam_data).fit()\n",
    "exam3_model.summary()"
   ],
   "metadata": {
    "collapsed": false,
    "pycharm": {
     "name": "#%%\n"
    }
   }
  },
  {
   "cell_type": "code",
   "execution_count": null,
   "outputs": [],
   "source": [
    "#null hypothesis is\n"
   ],
   "metadata": {
    "collapsed": false,
    "pycharm": {
     "name": "#%%\n"
    }
   }
  },
  {
   "cell_type": "code",
   "execution_count": 165,
   "outputs": [
    {
     "data": {
      "text/plain": "0     83.725133\n1     98.958957\n2    160.935993\ndtype: float64"
     },
     "execution_count": 165,
     "metadata": {},
     "output_type": "execute_result"
    }
   ],
   "source": [
    "#prediction for 3 students with grades 40 50 40 , 50 50 50 and 80 80 80\n",
    "exam_data2=pd.DataFrame(np.array([[40,50,40],[50,50,50],[80,80,80]]),columns=['EXAM1', 'EXAM2', 'EXAM3'])\n",
    "student_results=exam_data.loc[0,:]\n",
    "res=final_model.predict(exam_data2)\n",
    "res\n",
    "\n",
    "\n"
   ],
   "metadata": {
    "collapsed": false,
    "pycharm": {
     "name": "#%%\n"
    }
   }
  }
 ],
 "metadata": {
  "kernelspec": {
   "name": "pycharm-1c817b6b",
   "language": "python",
   "display_name": "PyCharm (526 codes)"
  },
  "language_info": {
   "codemirror_mode": {
    "name": "ipython",
    "version": 2
   },
   "file_extension": ".py",
   "mimetype": "text/x-python",
   "name": "python",
   "nbconvert_exporter": "python",
   "pygments_lexer": "ipython2",
   "version": "2.7.6"
  }
 },
 "nbformat": 4,
 "nbformat_minor": 0
}